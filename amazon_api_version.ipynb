{
 "cells": [
  {
   "cell_type": "code",
   "execution_count": 2,
   "metadata": {},
   "outputs": [],
   "source": [
    "from bs4 import BeautifulSoup\n",
    "import boto3, json, random, re, requests"
   ]
  },
  {
   "cell_type": "code",
   "execution_count": 51,
   "metadata": {},
   "outputs": [
    {
     "name": "stdout",
     "output_type": "stream",
     "text": [
      "Finance Duck is jazzed. Markets r up.\n",
      "\n",
      "The S&P500 closed at: \n",
      "3,046.77\n",
      "(+0.33%)\n",
      "\n",
      "My analysis concludes that it's because this dog is so excited to bump into chewbacca on the street:\n",
      "https://www.thedodo.com/close-to-home/dog-meets-chewbacca\n"
     ]
    }
   ],
   "source": [
    "# Setting up requests package user agent.\n",
    "\n",
    "\"\"\"\n",
    "Create list of links and titles separately\n",
    "\"\"\"\n",
    "link_list = []\n",
    "title_list = []\n",
    "\n",
    "user_agent = \"Mozilla/5.0 (Macintosh; Intel Mac OS X 10_9_3) AppleWebKit/537.36 (KHTML, like Gecko) Chrome/35.0.1916.47 Safari/537.36\"\n",
    "headers = {\"User-Agent\": user_agent}\n",
    "\n",
    "# Scraping from The Dodo\n",
    "dodo_url = \"https://www.thedodo.com/close-to-home\"\n",
    "\n",
    "response = requests.get(dodo_url, headers=headers)\n",
    "dodo_soup = BeautifulSoup(response.content, \"lxml\")\n",
    "\n",
    "\"\"\"\n",
    "We are grabbing 'low hanging fruit' stories on the day.\n",
    "This is done via the 'close to home' page on the site.\n",
    "\"\"\"\n",
    "\n",
    "dodo_list = dodo_soup.findAll(\n",
    "    \"a\", attrs={\"class\": \"double-column-listing__link u-block-link ga-trigger\"}\n",
    ")\n",
    "\n",
    "[link_list.append(i[\"href\"]) for i in dodo_list]\n",
    "\n",
    "for i in dodo_list:\n",
    "    title_list.append(i.find(\"h2\").text.strip())\n",
    "\n",
    "# Huffpost Scrape\n",
    "\n",
    "huff_url = \"https://www.huffpost.com/entertainment/topic/cute-animals\"\n",
    "huff_response = requests.get(huff_url, headers=headers)\n",
    "huff_soup = BeautifulSoup(huff_response.content, \"lxml\")\n",
    "\n",
    "\"\"\"\n",
    "Ditto here. We're just looking for a list of stories \n",
    "that updates roughly daily. \n",
    "\"\"\"\n",
    "\n",
    "huff_list = huff_soup.findAll(\n",
    "    \"a\", attrs={\"class\": \"card__headline card__headline--long\"}\n",
    ")\n",
    "\n",
    "for link in huff_list:\n",
    "    link_list.append(link[\"href\"])\n",
    "\n",
    "for title in huff_list:\n",
    "    title_list.append(title.find(\"h2\").text.strip())\n",
    "\n",
    "\n",
    "# Buzzpaws Scrape\n",
    "\n",
    "url = \"http://www.buzzpaws.com/\"\n",
    "response = requests.get(url, headers=headers)\n",
    "buzz_soup = BeautifulSoup(response.content, \"lxml\")\n",
    "\n",
    "buzz_list = buzz_soup.findAll(\n",
    "    \"div\", attrs={\"class\": \"content-thumb content-list-thumb\"}\n",
    ")\n",
    "\n",
    "for link in buzz_list:\n",
    "    link_list.append(link.find(\"a\")[\"href\"])\n",
    "\n",
    "for title in buzz_list:\n",
    "    title_list.append(title.find(\"a\")[\"title\"])\n",
    "\n",
    "title_list\n",
    "\n",
    "# Analyze sentiment\n",
    "\n",
    "client = boto3.client(\"comprehend\")\n",
    "sentiment = []\n",
    "for sentence in title_list:\n",
    "    sentiment.append(\n",
    "        client.detect_sentiment(Text=sentence, LanguageCode=\"en\")[\"Sentiment\"]\n",
    "    )\n",
    "\n",
    "# Render titles into lower case for later publishing\n",
    "title_list = [x.lower() for x in title_list]\n",
    "\n",
    "# So now we have link_list, sentiment, and title_list in memory\n",
    "\n",
    "# Discover Whether the Market Closed Up or Down on the Day\n",
    "\n",
    "# Reset the user agent and headers\n",
    "user_agent = \"Mozilla/5.0 (Macintosh; Intel Mac OS X 10_9_3) AppleWebKit/537.36 (KHTML, like Gecko) Chrome/35.0.1916.47 Safari/537.36\"\n",
    "headers = {\"User-Agent\": user_agent}\n",
    "\n",
    "# We can grab a closing price from Yahoo Finance\n",
    "url = \"https://finance.yahoo.com/quote/^GSPC\"\n",
    "\n",
    "response = requests.get(url, headers=headers)\n",
    "price_soup = BeautifulSoup(response.content, \"lxml\")\n",
    "\n",
    "# Extract the string we want with price information\n",
    "price_text = price_soup.findAll(\"div\", attrs={\"class\": \"D(ib) Mend(20px)\"})[0].text\n",
    "price_string = price_text[price_text.find(\"(\") + 1 : price_text.find(\")\")]\n",
    "\n",
    "\"\"\"\n",
    "Remove the four-digit delta in price, either positive or negative, from the Yahoo Finance\n",
    "string.\n",
    "\"\"\"\n",
    "\n",
    "\n",
    "def price_format(price_string, price_text):\n",
    "    price_1 = re.sub(\n",
    "        r\"\\+[0-9]{1,2}[^(]*\", \" \", price_text, count=1\n",
    "    )  # + change; count=1 means remove only first instance\n",
    "    price_2 = re.sub(r\"\\-[0-9]{1,2}[^(]*\", \" \", price_text, count=1)  # - change\n",
    "\n",
    "    if price_string[0] == \"+\":  # positive delta\n",
    "        return price_1\n",
    "    else:\n",
    "        return price_2\n",
    "\n",
    "\n",
    "price_text = price_format(price_string, price_text)\n",
    "\n",
    "\n",
    "def price_clean(price_text):\n",
    "    # Remove remaining text\n",
    "    price_text = re.sub(\"[A-z]\", \"\", price_text)\n",
    "    # Remove remaining artifacts\n",
    "    price_text = re.sub(\"[ :]\", \"\", price_text)\n",
    "    price_text = re.sub(\"\\)[0-9]{3}\", \")\", price_text)\n",
    "    # Format the text for Twitter printing\n",
    "    price_text = price_text.replace(\"(\", \"\\n(\").replace(\")\", \")\\n\\n\")\n",
    "    # for some reason the chained replace was not working so it required a second pass, such...\n",
    "    price_text = price_text.replace(\"..\", \"\")\n",
    "    return price_text\n",
    "\n",
    "\n",
    "price_text = price_clean(price_text)\n",
    "\n",
    "market_up = [\n",
    "    \"Hooray, you guys! The market finished up today. \",\n",
    "    \"Finance Duck is jazzed. Markets r up.\",\n",
    "    \"Capitalism won today. Markets finished higher.\",\n",
    "    \"Damn, son. Markets up.\",\n",
    "    \"\"\"\n",
    "            Adorable 4pm\n",
    "            A happy market high-fives\n",
    "            because of the ducks\n",
    "            \"\"\",\n",
    "    \"Tell your friends. Market is up. All is well.\",\n",
    "    \"If the markets aren't up, I'm a swan.\",\n",
    "    \"\"\"\n",
    "            gusting proudly, bulls\n",
    "            savor passionate nectars,\n",
    "            bears crying\"\"\",\n",
    "    \"yessir, markets are up.\",\n",
    "    \"I'm pumped. Markets are too.\",\n",
    "]\n",
    "\n",
    "market_down = [\n",
    "    \"Dang it. Markets wet the bed.\",\n",
    "    \"Whatever. I don't even care that the markets finished down.\",\n",
    "    \"Well I'll be a lune's uncle; the markets finished down.\",\n",
    "    \"Pfffft. Stupid markets. They finished (eider)down. Ohhhhhhhhh...\",\n",
    "    \"Nnnnggg, bahhhhh.\",\n",
    "    \"Snap. Markets down a bit.\",\n",
    "    \"\"\"\n",
    "            Dire evening\n",
    "            A dark, failing market descends\n",
    "            forget the duck.\"\"\",\n",
    "    \"Flapping heck. Market down.\",\n",
    "    \"My net worth is down. So is the market.\",\n",
    "]\n",
    "\n",
    "# Generate a Message Related to Where the Market Finished\n",
    "\n",
    "# First, we want to generate two options for contextual link sentences based on whether the first word of our article title is a verb or not.\n",
    "\n",
    "noun = \"My analysis concludes that it's because this \"\n",
    "verb = \"My analysis concludes that you should \"\n",
    "neither = \"My analysis concludes that it's because \"\n",
    "\n",
    "\n",
    "# Now we want to randomly select a duck message based on whether the market finished up or down.\n",
    "def duck_message(market_up, market_down, price_string):\n",
    "    up_message = random.choice(market_up)\n",
    "    down_message = random.choice(market_down)\n",
    "    if price_string[0] == \"+\":\n",
    "        return up_message\n",
    "    else:\n",
    "        return down_message\n",
    "\n",
    "\n",
    "duck_talk = duck_message(market_up, market_down, price_string)\n",
    "\n",
    "# Now we want to select a good article title and link to behave as the causal force in the market as identified by Finance Duck.\n",
    "\n",
    "\n",
    "def title_message(sentiment, title_list, price_string):\n",
    "    # grab the index numbers of the respective sentiments\n",
    "    pos_index = [i for i, x in enumerate(sentiment) if x == \"POSITIVE\"]\n",
    "    neg_index = [i for i, x in enumerate(sentiment) if x == \"NEGATIVE\"]\n",
    "    neut_index = [i for i, x in enumerate(sentiment) if x == \"NEUTRAL\"]\n",
    "    # if the market finished up select our random positive message; if there is no pos message, go with a neutral\n",
    "    if price_string[0] == \"+\":\n",
    "        if len(pos_index) > 0:\n",
    "            choice = random.choice(pos_index)\n",
    "            return choice, title_list[choice]\n",
    "        else:\n",
    "            choice = random.choice(neut_index)\n",
    "            return choice, title_list[choice]\n",
    "    # if it finished down but there are no negative sentiment stories today, use the neutral messages...\n",
    "    elif len(neg_index) == 0:\n",
    "        choice = random.choice(neut_index)\n",
    "        return choice, title_list[choice]\n",
    "    else:\n",
    "        choice = random.choice(neg_index)\n",
    "        return choice, title_list[choice]\n",
    "\n",
    "\n",
    "# otherwise stay on plan and use the negative sentiment title\n",
    "\n",
    "\n",
    "choice, title_result = title_message(sentiment, title_list, price_string)\n",
    "\n",
    "# Parse the title to see if the first word is a verb or noun\n",
    "first_word = client.detect_syntax(Text=title_result, LanguageCode=\"en\")[\"SyntaxTokens\"][0][\"PartOfSpeech\"][\"Tag\"]\n",
    "\n",
    "\n",
    "def link_phrase(first_word, verb, noun, neither):\n",
    "    if first_word == \"VERB\":\n",
    "        return verb\n",
    "    elif first_word == \"NOUN\":\n",
    "        return noun\n",
    "    else:\n",
    "        return neither\n",
    "\n",
    "\n",
    "anchor = link_phrase(first_word, verb, noun, neither)\n",
    "\n",
    "\"\"\"\n",
    "Link extraction from data frame. \n",
    "\"\"\"\n",
    "link = link_list[choice]\n",
    "\n",
    "\n",
    "# Compile the final message\n",
    "\n",
    "tweet = (\n",
    "    duck_talk\n",
    "    + \"\\n\\n\"\n",
    "    + \"The S&P500 closed at: \\n\"\n",
    "    + price_text\n",
    "    + anchor\n",
    "    + title_result\n",
    "    + \":\\n\"\n",
    "    + link\n",
    ")\n",
    "\n",
    "print(tweet)"
   ]
  },
  {
   "cell_type": "code",
   "execution_count": 54,
   "metadata": {},
   "outputs": [
    {
     "data": {
      "text/plain": [
       "Status(_api=<tweepy.api.API object at 0x000001E158187550>, _json={'created_at': 'Wed Oct 30 20:16:00 +0000 2019', 'id': 1189637094777507845, 'id_str': '1189637094777507845', 'text': \"Finance Duck is jazzed. Markets r up.\\n\\nThe S&amp;P500 closed at: \\n3,046.77\\n(+0.33%)\\n\\nMy analysis concludes that it's be… https://t.co/feYxxioIpv\", 'truncated': True, 'entities': {'hashtags': [], 'symbols': [], 'user_mentions': [], 'urls': [{'url': 'https://t.co/feYxxioIpv', 'expanded_url': 'https://twitter.com/i/web/status/1189637094777507845', 'display_url': 'twitter.com/i/web/status/1…', 'indices': [121, 144]}]}, 'source': '<a href=\"https://growthtesttube.com\" rel=\"nofollow\">FinanceDuckBot</a>', 'in_reply_to_status_id': None, 'in_reply_to_status_id_str': None, 'in_reply_to_user_id': None, 'in_reply_to_user_id_str': None, 'in_reply_to_screen_name': None, 'user': {'id': 1142771823471468545, 'id_str': '1142771823471468545', 'name': 'Finance Duck', 'screen_name': 'FinanceDuck', 'location': 'New York, USA', 'description': \"Finance Duck provides hard-hitting, cute animal-based analysis of what is driving U.S. financial markets. Also, he's a bot by @timraiswell, https://t.co/OKO6rvL0R8.\", 'url': 'https://t.co/OKO6rvL0R8', 'entities': {'url': {'urls': [{'url': 'https://t.co/OKO6rvL0R8', 'expanded_url': 'http://growthtesttube.com', 'display_url': 'growthtesttube.com', 'indices': [0, 23]}]}, 'description': {'urls': [{'url': 'https://t.co/OKO6rvL0R8', 'expanded_url': 'http://growthtesttube.com', 'display_url': 'growthtesttube.com', 'indices': [140, 163]}]}}, 'protected': False, 'followers_count': 2, 'friends_count': 0, 'listed_count': 0, 'created_at': 'Sun Jun 23 12:30:09 +0000 2019', 'favourites_count': 0, 'utc_offset': None, 'time_zone': None, 'geo_enabled': False, 'verified': False, 'statuses_count': 42, 'lang': None, 'contributors_enabled': False, 'is_translator': False, 'is_translation_enabled': False, 'profile_background_color': '000000', 'profile_background_image_url': 'http://abs.twimg.com/images/themes/theme1/bg.png', 'profile_background_image_url_https': 'https://abs.twimg.com/images/themes/theme1/bg.png', 'profile_background_tile': False, 'profile_image_url': 'http://pbs.twimg.com/profile_images/1142773027354136576/v48rmvsW_normal.jpg', 'profile_image_url_https': 'https://pbs.twimg.com/profile_images/1142773027354136576/v48rmvsW_normal.jpg', 'profile_banner_url': 'https://pbs.twimg.com/profile_banners/1142771823471468545/1561294853', 'profile_link_color': '000044', 'profile_sidebar_border_color': '000000', 'profile_sidebar_fill_color': '000000', 'profile_text_color': '000000', 'profile_use_background_image': False, 'has_extended_profile': False, 'default_profile': False, 'default_profile_image': False, 'following': False, 'follow_request_sent': False, 'notifications': False, 'translator_type': 'none'}, 'geo': None, 'coordinates': None, 'place': None, 'contributors': None, 'is_quote_status': False, 'retweet_count': 0, 'favorite_count': 0, 'favorited': False, 'retweeted': False, 'possibly_sensitive': False, 'lang': 'en'}, created_at=datetime.datetime(2019, 10, 30, 20, 16), id=1189637094777507845, id_str='1189637094777507845', text=\"Finance Duck is jazzed. Markets r up.\\n\\nThe S&amp;P500 closed at: \\n3,046.77\\n(+0.33%)\\n\\nMy analysis concludes that it's be… https://t.co/feYxxioIpv\", truncated=True, entities={'hashtags': [], 'symbols': [], 'user_mentions': [], 'urls': [{'url': 'https://t.co/feYxxioIpv', 'expanded_url': 'https://twitter.com/i/web/status/1189637094777507845', 'display_url': 'twitter.com/i/web/status/1…', 'indices': [121, 144]}]}, source='FinanceDuckBot', source_url='https://growthtesttube.com', in_reply_to_status_id=None, in_reply_to_status_id_str=None, in_reply_to_user_id=None, in_reply_to_user_id_str=None, in_reply_to_screen_name=None, author=User(_api=<tweepy.api.API object at 0x000001E158187550>, _json={'id': 1142771823471468545, 'id_str': '1142771823471468545', 'name': 'Finance Duck', 'screen_name': 'FinanceDuck', 'location': 'New York, USA', 'description': \"Finance Duck provides hard-hitting, cute animal-based analysis of what is driving U.S. financial markets. Also, he's a bot by @timraiswell, https://t.co/OKO6rvL0R8.\", 'url': 'https://t.co/OKO6rvL0R8', 'entities': {'url': {'urls': [{'url': 'https://t.co/OKO6rvL0R8', 'expanded_url': 'http://growthtesttube.com', 'display_url': 'growthtesttube.com', 'indices': [0, 23]}]}, 'description': {'urls': [{'url': 'https://t.co/OKO6rvL0R8', 'expanded_url': 'http://growthtesttube.com', 'display_url': 'growthtesttube.com', 'indices': [140, 163]}]}}, 'protected': False, 'followers_count': 2, 'friends_count': 0, 'listed_count': 0, 'created_at': 'Sun Jun 23 12:30:09 +0000 2019', 'favourites_count': 0, 'utc_offset': None, 'time_zone': None, 'geo_enabled': False, 'verified': False, 'statuses_count': 42, 'lang': None, 'contributors_enabled': False, 'is_translator': False, 'is_translation_enabled': False, 'profile_background_color': '000000', 'profile_background_image_url': 'http://abs.twimg.com/images/themes/theme1/bg.png', 'profile_background_image_url_https': 'https://abs.twimg.com/images/themes/theme1/bg.png', 'profile_background_tile': False, 'profile_image_url': 'http://pbs.twimg.com/profile_images/1142773027354136576/v48rmvsW_normal.jpg', 'profile_image_url_https': 'https://pbs.twimg.com/profile_images/1142773027354136576/v48rmvsW_normal.jpg', 'profile_banner_url': 'https://pbs.twimg.com/profile_banners/1142771823471468545/1561294853', 'profile_link_color': '000044', 'profile_sidebar_border_color': '000000', 'profile_sidebar_fill_color': '000000', 'profile_text_color': '000000', 'profile_use_background_image': False, 'has_extended_profile': False, 'default_profile': False, 'default_profile_image': False, 'following': False, 'follow_request_sent': False, 'notifications': False, 'translator_type': 'none'}, id=1142771823471468545, id_str='1142771823471468545', name='Finance Duck', screen_name='FinanceDuck', location='New York, USA', description=\"Finance Duck provides hard-hitting, cute animal-based analysis of what is driving U.S. financial markets. Also, he's a bot by @timraiswell, https://t.co/OKO6rvL0R8.\", url='https://t.co/OKO6rvL0R8', entities={'url': {'urls': [{'url': 'https://t.co/OKO6rvL0R8', 'expanded_url': 'http://growthtesttube.com', 'display_url': 'growthtesttube.com', 'indices': [0, 23]}]}, 'description': {'urls': [{'url': 'https://t.co/OKO6rvL0R8', 'expanded_url': 'http://growthtesttube.com', 'display_url': 'growthtesttube.com', 'indices': [140, 163]}]}}, protected=False, followers_count=2, friends_count=0, listed_count=0, created_at=datetime.datetime(2019, 6, 23, 12, 30, 9), favourites_count=0, utc_offset=None, time_zone=None, geo_enabled=False, verified=False, statuses_count=42, lang=None, contributors_enabled=False, is_translator=False, is_translation_enabled=False, profile_background_color='000000', profile_background_image_url='http://abs.twimg.com/images/themes/theme1/bg.png', profile_background_image_url_https='https://abs.twimg.com/images/themes/theme1/bg.png', profile_background_tile=False, profile_image_url='http://pbs.twimg.com/profile_images/1142773027354136576/v48rmvsW_normal.jpg', profile_image_url_https='https://pbs.twimg.com/profile_images/1142773027354136576/v48rmvsW_normal.jpg', profile_banner_url='https://pbs.twimg.com/profile_banners/1142771823471468545/1561294853', profile_link_color='000044', profile_sidebar_border_color='000000', profile_sidebar_fill_color='000000', profile_text_color='000000', profile_use_background_image=False, has_extended_profile=False, default_profile=False, default_profile_image=False, following=False, follow_request_sent=False, notifications=False, translator_type='none'), user=User(_api=<tweepy.api.API object at 0x000001E158187550>, _json={'id': 1142771823471468545, 'id_str': '1142771823471468545', 'name': 'Finance Duck', 'screen_name': 'FinanceDuck', 'location': 'New York, USA', 'description': \"Finance Duck provides hard-hitting, cute animal-based analysis of what is driving U.S. financial markets. Also, he's a bot by @timraiswell, https://t.co/OKO6rvL0R8.\", 'url': 'https://t.co/OKO6rvL0R8', 'entities': {'url': {'urls': [{'url': 'https://t.co/OKO6rvL0R8', 'expanded_url': 'http://growthtesttube.com', 'display_url': 'growthtesttube.com', 'indices': [0, 23]}]}, 'description': {'urls': [{'url': 'https://t.co/OKO6rvL0R8', 'expanded_url': 'http://growthtesttube.com', 'display_url': 'growthtesttube.com', 'indices': [140, 163]}]}}, 'protected': False, 'followers_count': 2, 'friends_count': 0, 'listed_count': 0, 'created_at': 'Sun Jun 23 12:30:09 +0000 2019', 'favourites_count': 0, 'utc_offset': None, 'time_zone': None, 'geo_enabled': False, 'verified': False, 'statuses_count': 42, 'lang': None, 'contributors_enabled': False, 'is_translator': False, 'is_translation_enabled': False, 'profile_background_color': '000000', 'profile_background_image_url': 'http://abs.twimg.com/images/themes/theme1/bg.png', 'profile_background_image_url_https': 'https://abs.twimg.com/images/themes/theme1/bg.png', 'profile_background_tile': False, 'profile_image_url': 'http://pbs.twimg.com/profile_images/1142773027354136576/v48rmvsW_normal.jpg', 'profile_image_url_https': 'https://pbs.twimg.com/profile_images/1142773027354136576/v48rmvsW_normal.jpg', 'profile_banner_url': 'https://pbs.twimg.com/profile_banners/1142771823471468545/1561294853', 'profile_link_color': '000044', 'profile_sidebar_border_color': '000000', 'profile_sidebar_fill_color': '000000', 'profile_text_color': '000000', 'profile_use_background_image': False, 'has_extended_profile': False, 'default_profile': False, 'default_profile_image': False, 'following': False, 'follow_request_sent': False, 'notifications': False, 'translator_type': 'none'}, id=1142771823471468545, id_str='1142771823471468545', name='Finance Duck', screen_name='FinanceDuck', location='New York, USA', description=\"Finance Duck provides hard-hitting, cute animal-based analysis of what is driving U.S. financial markets. Also, he's a bot by @timraiswell, https://t.co/OKO6rvL0R8.\", url='https://t.co/OKO6rvL0R8', entities={'url': {'urls': [{'url': 'https://t.co/OKO6rvL0R8', 'expanded_url': 'http://growthtesttube.com', 'display_url': 'growthtesttube.com', 'indices': [0, 23]}]}, 'description': {'urls': [{'url': 'https://t.co/OKO6rvL0R8', 'expanded_url': 'http://growthtesttube.com', 'display_url': 'growthtesttube.com', 'indices': [140, 163]}]}}, protected=False, followers_count=2, friends_count=0, listed_count=0, created_at=datetime.datetime(2019, 6, 23, 12, 30, 9), favourites_count=0, utc_offset=None, time_zone=None, geo_enabled=False, verified=False, statuses_count=42, lang=None, contributors_enabled=False, is_translator=False, is_translation_enabled=False, profile_background_color='000000', profile_background_image_url='http://abs.twimg.com/images/themes/theme1/bg.png', profile_background_image_url_https='https://abs.twimg.com/images/themes/theme1/bg.png', profile_background_tile=False, profile_image_url='http://pbs.twimg.com/profile_images/1142773027354136576/v48rmvsW_normal.jpg', profile_image_url_https='https://pbs.twimg.com/profile_images/1142773027354136576/v48rmvsW_normal.jpg', profile_banner_url='https://pbs.twimg.com/profile_banners/1142771823471468545/1561294853', profile_link_color='000044', profile_sidebar_border_color='000000', profile_sidebar_fill_color='000000', profile_text_color='000000', profile_use_background_image=False, has_extended_profile=False, default_profile=False, default_profile_image=False, following=False, follow_request_sent=False, notifications=False, translator_type='none'), geo=None, coordinates=None, place=None, contributors=None, is_quote_status=False, retweet_count=0, favorite_count=0, favorited=False, retweeted=False, possibly_sensitive=False, lang='en')"
      ]
     },
     "execution_count": 54,
     "metadata": {},
     "output_type": "execute_result"
    }
   ],
   "source": [
    "import tweepy\n",
    "\n",
    "consumer_token = \"KPifY4hb2LIGRxN8XlFBSAv4A\"\n",
    "consumer_secret = \"43TiVgZ0NcM31K2Bpf634xnHfbD6CsVgunG3S3iM6Y03EKJVXV\"\n",
    "access_token = \"1142771823471468545-dzvFy7BFtzedUhQbukZqT9MVosf2JC\"\n",
    "access_secret = \"zohTzltTJOc4GBSAGqoV9uVGqInLZYISoFX9GqmC0VBVC\"\n",
    "\n",
    "auth = tweepy.OAuthHandler(consumer_token, consumer_secret)\n",
    "\n",
    "# Authenticate to Twitter\n",
    "auth = tweepy.OAuthHandler(consumer_token, consumer_secret)\n",
    "auth.set_access_token(access_token, access_secret)\n",
    "\n",
    "api = tweepy.API(auth)\n",
    "\n",
    "# Tweet\n",
    "api.update_status(tweet)"
   ]
  },
  {
   "cell_type": "code",
   "execution_count": 6,
   "metadata": {},
   "outputs": [],
   "source": [
    "from datetime import date\n"
   ]
  },
  {
   "cell_type": "code",
   "execution_count": 7,
   "metadata": {},
   "outputs": [
    {
     "data": {
      "text/plain": [
       "datetime.date(2019, 10, 30)"
      ]
     },
     "execution_count": 7,
     "metadata": {},
     "output_type": "execute_result"
    }
   ],
   "source": [
    "date.today()"
   ]
  },
  {
   "cell_type": "code",
   "execution_count": 50,
   "metadata": {},
   "outputs": [
    {
     "name": "stdout",
     "output_type": "stream",
     "text": [
      "yurrrrs\n"
     ]
    }
   ],
   "source": [
    "import datetime\n",
    "import holidays\n",
    "\n",
    "us_holidays = holidays.CountryHoliday('US')\n",
    "today = datetime.date.today()\n",
    "\n",
    "if today in us_holidays:\n",
    "    pass\n",
    "else:\n",
    "    print(\"yurrrrs\")"
   ]
  },
  {
   "cell_type": "code",
   "execution_count": 37,
   "metadata": {},
   "outputs": [
    {
     "name": "stdout",
     "output_type": "stream",
     "text": [
      "Nope\n"
     ]
    }
   ],
   "source": [
    "\n",
    "\n",
    "# Check if today is a holiday\n",
    "if \"25-12-2019\" in hol_dict:\n",
    "    print(\"Hols!\")\n",
    "else:\n",
    "    print(\"Nope\")"
   ]
  },
  {
   "cell_type": "code",
   "execution_count": 35,
   "metadata": {},
   "outputs": [
    {
     "data": {
      "text/plain": [
       "dict_items([(datetime.date(2019, 1, 1), \"New Year's Day\"), (datetime.date(2019, 1, 21), 'Martin Luther King, Jr. Day'), (datetime.date(2019, 2, 18), \"Washington's Birthday\"), (datetime.date(2019, 5, 27), 'Memorial Day'), (datetime.date(2019, 7, 4), 'Independence Day'), (datetime.date(2019, 9, 2), 'Labor Day'), (datetime.date(2019, 10, 14), 'Columbus Day'), (datetime.date(2019, 11, 11), 'Veterans Day'), (datetime.date(2019, 11, 28), 'Thanksgiving'), (datetime.date(2019, 12, 25), 'Christmas Day')])"
      ]
     },
     "execution_count": 35,
     "metadata": {},
     "output_type": "execute_result"
    }
   ],
   "source": [
    "hol_dict"
   ]
  },
  {
   "cell_type": "code",
   "execution_count": 53,
   "metadata": {},
   "outputs": [
    {
     "name": "stdout",
     "output_type": "stream",
     "text": [
      "Collecting tweepy\n",
      "  Using cached https://files.pythonhosted.org/packages/36/1b/2bd38043d22ade352fc3d3902cf30ce0e2f4bf285be3b304a2782a767aec/tweepy-3.8.0-py2.py3-none-any.whl\n",
      "Requirement already satisfied: six>=1.10.0 in c:\\programdata\\anaconda3\\lib\\site-packages (from tweepy) (1.12.0)\n",
      "Requirement already satisfied: requests>=2.11.1 in c:\\programdata\\anaconda3\\lib\\site-packages (from tweepy) (2.22.0)\n",
      "Collecting requests-oauthlib>=0.7.0\n",
      "  Using cached https://files.pythonhosted.org/packages/c2/e2/9fd03d55ffb70fe51f587f20bcf407a6927eb121de86928b34d162f0b1ac/requests_oauthlib-1.2.0-py2.py3-none-any.whl\n",
      "Requirement already satisfied: PySocks>=1.5.7 in c:\\programdata\\anaconda3\\lib\\site-packages (from tweepy) (1.7.1)\n",
      "Requirement already satisfied: certifi>=2017.4.17 in c:\\programdata\\anaconda3\\lib\\site-packages (from requests>=2.11.1->tweepy) (2019.9.11)\n",
      "Requirement already satisfied: urllib3!=1.25.0,!=1.25.1,<1.26,>=1.21.1 in c:\\programdata\\anaconda3\\lib\\site-packages (from requests>=2.11.1->tweepy) (1.25.6)\n",
      "Requirement already satisfied: idna<2.9,>=2.5 in c:\\programdata\\anaconda3\\lib\\site-packages (from requests>=2.11.1->tweepy) (2.8)\n",
      "Requirement already satisfied: chardet<3.1.0,>=3.0.2 in c:\\programdata\\anaconda3\\lib\\site-packages (from requests>=2.11.1->tweepy) (3.0.4)\n",
      "Collecting oauthlib>=3.0.0\n",
      "  Using cached https://files.pythonhosted.org/packages/05/57/ce2e7a8fa7c0afb54a0581b14a65b56e62b5759dbc98e80627142b8a3704/oauthlib-3.1.0-py2.py3-none-any.whl\n",
      "Installing collected packages: oauthlib, requests-oauthlib, tweepy\n",
      "Successfully installed oauthlib-3.1.0 requests-oauthlib-1.2.0 tweepy-3.8.0\n"
     ]
    }
   ],
   "source": [
    "!pip install tweepy"
   ]
  },
  {
   "cell_type": "code",
   "execution_count": 44,
   "metadata": {},
   "outputs": [
    {
     "data": {
      "text/plain": [
       "datetime.date(2019, 10, 30)"
      ]
     },
     "execution_count": 44,
     "metadata": {},
     "output_type": "execute_result"
    }
   ],
   "source": [
    "today"
   ]
  },
  {
   "cell_type": "code",
   "execution_count": 47,
   "metadata": {},
   "outputs": [
    {
     "data": {
      "text/plain": [
       "{datetime.date(2019, 1, 1): \"New Year's Day\",\n",
       " datetime.date(2019, 1, 21): 'Martin Luther King, Jr. Day',\n",
       " datetime.date(2019, 2, 18): \"Washington's Birthday\",\n",
       " datetime.date(2019, 5, 27): 'Memorial Day',\n",
       " datetime.date(2019, 7, 4): 'Independence Day',\n",
       " datetime.date(2019, 9, 2): 'Labor Day',\n",
       " datetime.date(2019, 10, 14): 'Columbus Day',\n",
       " datetime.date(2019, 11, 11): 'Veterans Day',\n",
       " datetime.date(2019, 11, 28): 'Thanksgiving',\n",
       " datetime.date(2019, 12, 25): 'Christmas Day'}"
      ]
     },
     "execution_count": 47,
     "metadata": {},
     "output_type": "execute_result"
    }
   ],
   "source": [
    "us_holidays"
   ]
  },
  {
   "cell_type": "code",
   "execution_count": null,
   "metadata": {},
   "outputs": [],
   "source": []
  }
 ],
 "metadata": {
  "kernelspec": {
   "display_name": "Python 3",
   "language": "python",
   "name": "python3"
  },
  "language_info": {
   "codemirror_mode": {
    "name": "ipython",
    "version": 3
   },
   "file_extension": ".py",
   "mimetype": "text/x-python",
   "name": "python",
   "nbconvert_exporter": "python",
   "pygments_lexer": "ipython3",
   "version": "3.7.3"
  }
 },
 "nbformat": 4,
 "nbformat_minor": 2
}
